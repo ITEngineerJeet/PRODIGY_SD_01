{
  "nbformat": 4,
  "nbformat_minor": 0,
  "metadata": {
    "colab": {
      "provenance": []
    },
    "kernelspec": {
      "name": "python3",
      "display_name": "Python 3"
    },
    "language_info": {
      "name": "python"
    }
  },
  "cells": [
    {
      "cell_type": "code",
      "execution_count": 6,
      "metadata": {
        "id": "30grL3LYGnI_"
      },
      "outputs": [],
      "source": [
        "#Hereby we will make a Temperature Converter Program which takes input in any Standard(Celsius,Fahrenheit,Kelvin) and converts to other"
      ]
    },
    {
      "cell_type": "code",
      "source": [
        "#For Celsius Scale\n",
        "def celsius_to_fahrenheit(cel):\n",
        "  return (cel*9/5)+32\n",
        "\n",
        "def celsius_to_kelvin(cel):\n",
        "  return (cel+273.15)\n",
        "\n",
        "#For Farenheit Scale\n",
        "def fahrenheit_to_celsius(faren):\n",
        "  return (faren-32)*5/9\n",
        "\n",
        "def fahrenheit_to_kelvin(faren):\n",
        "  return (faren-32)*5/9+273.15\n",
        "\n",
        "#For Kelvin Scale\n",
        "def kelvin_to_celsius(kel):\n",
        "  return (kel-273.15)\n",
        "\n",
        "def kelvin_to_fahrenheit(kel):\n",
        "  return (kel-273.15)*9/5+32"
      ],
      "metadata": {
        "id": "FRvfpzWuHMgk"
      },
      "execution_count": 7,
      "outputs": []
    },
    {
      "cell_type": "code",
      "source": [
        "#Now we will create a Driver Function that will combine all the converters to one function\n",
        "\n",
        "def convert_temperature(value, scale):\n",
        "    if scale == 'C':\n",
        "        fahrenheit = celsius_to_fahrenheit(value)\n",
        "        kelvin = celsius_to_kelvin(value)\n",
        "        print(f\"{value}°C is {fahrenheit:.2f}°F and {kelvin:.2f}K\")\n",
        "    elif scale == 'F':\n",
        "        celsius = fahrenheit_to_celsius(value)\n",
        "        kelvin = fahrenheit_to_kelvin(value)\n",
        "        print(f\"{value}°F is {celsius:.2f}°C and {kelvin:.2f}K\")\n",
        "    elif scale == 'K':\n",
        "        celsius = kelvin_to_celsius(value)\n",
        "        fahrenheit = kelvin_to_fahrenheit(value)\n",
        "        print(f\"{value}K is {celsius:.2f}°C and {fahrenheit:.2f}°F\")\n",
        "    else:\n",
        "        print(\"Invalid unit of measurement. Please use 'C' for Celsius, 'F' for Fahrenheit, or 'K' for Kelvin.\")"
      ],
      "metadata": {
        "id": "xOqnIUj1Lif4"
      },
      "execution_count": 8,
      "outputs": []
    },
    {
      "cell_type": "code",
      "source": [
        "#__main__\n",
        "\n",
        "print(\"Welcome to the Temperature Converter Device \")\n",
        "value = float(input(\"Enter the temperature value: \"))\n",
        "unit = input(\"Enter the unit of measurement (C for Celsius, F for Fahrenheit, K for Kelvin): \").upper()\n",
        "#Function Call\n",
        "convert_temperature(value,unit)"
      ],
      "metadata": {
        "colab": {
          "base_uri": "https://localhost:8080/"
        },
        "id": "vR-TKGFZP8PT",
        "outputId": "c17bc437-9d14-4590-bef9-db5fa1f45445"
      },
      "execution_count": 10,
      "outputs": [
        {
          "output_type": "stream",
          "name": "stdout",
          "text": [
            "Welcome to the Temperature Converter Device \n",
            "Enter the temperature value: 20\n",
            "Enter the unit of measurement (C for Celsius, F for Fahrenheit, K for Kelvin): F\n",
            "20.0°F is -6.67°C and 266.48K\n"
          ]
        }
      ]
    }
  ]
}